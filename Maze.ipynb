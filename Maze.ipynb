{
  "nbformat": 4,
  "nbformat_minor": 0,
  "metadata": {
    "colab": {
      "provenance": [],
      "authorship_tag": "ABX9TyOfETXYgCBSxFxXGNwrbY8r",
      "include_colab_link": true
    },
    "kernelspec": {
      "name": "python3",
      "display_name": "Python 3"
    },
    "language_info": {
      "name": "python"
    }
  },
  "cells": [
    {
      "cell_type": "markdown",
      "metadata": {
        "id": "view-in-github",
        "colab_type": "text"
      },
      "source": [
        "<a href=\"https://colab.research.google.com/github/OscarRojasG/Laberinto/blob/main/Maze.ipynb\" target=\"_parent\"><img src=\"https://colab.research.google.com/assets/colab-badge.svg\" alt=\"Open In Colab\"/></a>"
      ]
    },
    {
      "cell_type": "code",
      "execution_count": 154,
      "metadata": {
        "id": "fWMNNtErm_i4"
      },
      "outputs": [],
      "source": [
        "import numpy as np\n",
        "import random\n",
        "import sys\n",
        "import matplotlib.pyplot as plt\n",
        "\n",
        "maze_size = 5\n",
        "start_pos = (1,2)\n",
        "end_pos = (4,4)"
      ]
    },
    {
      "cell_type": "code",
      "source": [
        "move_matrix = np.zeros((maze_size, maze_size), dtype=int)\n",
        "move_matrix[start_pos] = 1\n",
        "\n",
        "# Inicializar diccionario de coordenadas visitadas\n",
        "visited = dict()\n",
        "for x in range(0, maze_size):\n",
        "  for y in range(0, maze_size):\n",
        "    visited[(x,y)] = False\n",
        "\n",
        "# Movimientos posibles\n",
        "MOVE_LEFT = 1\n",
        "MOVE_RIGHT = 2\n",
        "MOVE_TOP = 3\n",
        "MOVE_DOWN = 4\n",
        "\n",
        "path = [start_pos]\n",
        "visited[start_pos] = True\n",
        "\n",
        "# Mientras no se llegue a la meta\n",
        "while True:\n",
        "  current_pos = path[-1]\n",
        "  if current_pos == end_pos:\n",
        "    break\n",
        "\n",
        "  x = current_pos[0]\n",
        "  y = current_pos[1]\n",
        "\n",
        "  available_moves = []\n",
        "\n",
        "  # Añadir movimientos factibles\n",
        "  if x - 1 >= 0 and visited[(x-1,y)] == False:\n",
        "    available_moves.append(MOVE_LEFT)\n",
        "  if x + 1 < maze_size and visited[(x+1,y)] == False:\n",
        "    available_moves.append(MOVE_RIGHT)\n",
        "  if y - 1 >= 0 and visited[(x,y-1)] == False:\n",
        "    available_moves.append(MOVE_TOP)\n",
        "  if y + 1 < maze_size and visited[(x,y+1)] == False:\n",
        "    available_moves.append(MOVE_DOWN)\n",
        "\n",
        "  if len(available_moves) == 0:\n",
        "    path.pop()\n",
        "    continue\n",
        "\n",
        "  move = random.choice(available_moves) # Movimiento aleatorio\n",
        "\n",
        "  # Actualizar coordenadas\n",
        "  if move == MOVE_LEFT:\n",
        "    x = x-1\n",
        "  elif move == MOVE_RIGHT:\n",
        "    x = x+1\n",
        "  elif move == MOVE_TOP:\n",
        "    y = y-1\n",
        "  elif move == MOVE_DOWN:\n",
        "    y = y+1\n",
        "\n",
        "  current_pos = (x,y)\n",
        "  path.append(current_pos)\n",
        "  visited[current_pos] = True\n",
        "\n",
        "path"
      ],
      "metadata": {
        "colab": {
          "base_uri": "https://localhost:8080/"
        },
        "id": "torJkCLFwRNg",
        "outputId": "0d577308-46e8-4431-98e5-bc6abc03b03c"
      },
      "execution_count": 155,
      "outputs": [
        {
          "output_type": "execute_result",
          "data": {
            "text/plain": [
              "[(1, 2),\n",
              " (0, 2),\n",
              " (0, 3),\n",
              " (0, 4),\n",
              " (1, 4),\n",
              " (2, 4),\n",
              " (2, 3),\n",
              " (2, 2),\n",
              " (3, 2),\n",
              " (3, 3),\n",
              " (4, 3),\n",
              " (4, 4)]"
            ]
          },
          "metadata": {},
          "execution_count": 155
        }
      ]
    },
    {
      "cell_type": "code",
      "source": [
        "# Ampliar tamaño de laberinto\n",
        "maze_size = maze_size * 2 - 1\n",
        "start_pos = (start_pos[0] * 2, start_pos[1] * 2)\n",
        "end_pos = (end_pos[0] * 2, end_pos[1] * 2)\n",
        "\n",
        "# Crear matriz\n",
        "m = np.zeros((maze_size, maze_size), dtype=int)\n",
        "\n",
        "# Dibujar camino\n",
        "for i in range(0, len(path)-1):\n",
        "  x1 = path[i][0] * 2\n",
        "  y1 = path[i][1] * 2\n",
        "  x2 = path[i+1][0] * 2\n",
        "  y2 = path[i+1][1] * 2\n",
        "\n",
        "  m[x1,y1] = 1\n",
        "\n",
        "  if x1 > x2:\n",
        "    m[x1-1,y1] = 1\n",
        "  elif x1 < x2:\n",
        "    m[x1+1,y1] = 1\n",
        "  elif y1 > y2:\n",
        "    m[x1,y1-1] = 1\n",
        "  elif y1 < y2:\n",
        "    m[x1,y1+1] = 1\n",
        "\n",
        "m[end_pos] = 1"
      ],
      "metadata": {
        "id": "Z1WRhgC5Fm_A"
      },
      "execution_count": 156,
      "outputs": []
    },
    {
      "cell_type": "code",
      "source": [
        "np.set_printoptions(threshold=sys.maxsize)\n",
        "m"
      ],
      "metadata": {
        "colab": {
          "base_uri": "https://localhost:8080/"
        },
        "id": "rU4M6yQQI_EO",
        "outputId": "6285c95b-9d14-4dba-d747-b437a85737cf"
      },
      "execution_count": 157,
      "outputs": [
        {
          "output_type": "execute_result",
          "data": {
            "text/plain": [
              "array([[0, 0, 0, 0, 1, 1, 1, 1, 1],\n",
              "       [0, 0, 0, 0, 1, 0, 0, 0, 1],\n",
              "       [0, 0, 0, 0, 1, 0, 0, 0, 1],\n",
              "       [0, 0, 0, 0, 0, 0, 0, 0, 1],\n",
              "       [0, 0, 0, 0, 1, 1, 1, 1, 1],\n",
              "       [0, 0, 0, 0, 1, 0, 0, 0, 0],\n",
              "       [0, 0, 0, 0, 1, 1, 1, 0, 0],\n",
              "       [0, 0, 0, 0, 0, 0, 1, 0, 0],\n",
              "       [0, 0, 0, 0, 0, 0, 1, 1, 1]])"
            ]
          },
          "metadata": {},
          "execution_count": 157
        }
      ]
    },
    {
      "cell_type": "code",
      "source": [
        "for i in range(0, maze_size, 2):\n",
        "  for j in range(0, maze_size, 2):\n",
        "    x = i\n",
        "    y = j\n",
        "\n",
        "    while m[x,y] == 0:\n",
        "      m[x,y] = 1\n",
        "\n",
        "      available_moves = []\n",
        "\n",
        "      # Añadir movimientos factibles\n",
        "      if x - 2 >= 0:\n",
        "        available_moves.append(MOVE_LEFT)\n",
        "      if x + 2 < maze_size:\n",
        "        available_moves.append(MOVE_RIGHT)\n",
        "      if y - 2 >= 0:\n",
        "        available_moves.append(MOVE_TOP)\n",
        "      if y + 2 < maze_size:\n",
        "        available_moves.append(MOVE_DOWN)\n",
        "\n",
        "      move = random.choice(available_moves) # Movimiento aleatorio\n",
        "\n",
        "      if move == MOVE_LEFT:\n",
        "        m[x-1,y] = 1\n",
        "        x = x-2\n",
        "      elif move == MOVE_RIGHT:\n",
        "        m[x+1,y] = 1\n",
        "        x = x+2\n",
        "      elif move == MOVE_TOP:\n",
        "        m[x,y-1] = 1\n",
        "        y = y-2\n",
        "      elif move == MOVE_DOWN:\n",
        "        m[x,y+1] = 1\n",
        "        y = y+2"
      ],
      "metadata": {
        "id": "ArRQpkDxZRr3"
      },
      "execution_count": 158,
      "outputs": []
    },
    {
      "cell_type": "code",
      "source": [
        "m"
      ],
      "metadata": {
        "colab": {
          "base_uri": "https://localhost:8080/"
        },
        "id": "tCcySC5AfX40",
        "outputId": "11db5370-edc3-4ef7-8f79-d55617f49c49"
      },
      "execution_count": 159,
      "outputs": [
        {
          "output_type": "execute_result",
          "data": {
            "text/plain": [
              "array([[1, 0, 1, 0, 1, 1, 1, 1, 1],\n",
              "       [1, 0, 1, 0, 1, 0, 0, 0, 1],\n",
              "       [1, 1, 1, 0, 1, 0, 1, 0, 1],\n",
              "       [0, 0, 0, 0, 0, 0, 1, 0, 1],\n",
              "       [1, 1, 1, 1, 1, 1, 1, 1, 1],\n",
              "       [0, 0, 0, 0, 1, 0, 0, 0, 1],\n",
              "       [1, 1, 1, 0, 1, 1, 1, 0, 1],\n",
              "       [1, 0, 1, 0, 1, 0, 1, 0, 0],\n",
              "       [1, 1, 1, 0, 1, 0, 1, 1, 1]])"
            ]
          },
          "metadata": {},
          "execution_count": 159
        }
      ]
    },
    {
      "cell_type": "code",
      "source": [
        "color_matrix = np.zeros((maze_size, maze_size, 3))\n",
        "\n",
        "for i in range(0, maze_size):\n",
        "  for j in range(0, maze_size):\n",
        "    value = m[i,j]\n",
        "    color_matrix[i,j] = [1-value] * 3\n",
        "\n",
        "color_matrix[start_pos] = [0,0,255]\n",
        "color_matrix[end_pos] = [255,0,0]\n",
        "\n",
        "plt.imshow(color_matrix, interpolation='nearest')\n",
        "plt.xticks([])\n",
        "plt.yticks([])\n",
        "plt.gca().spines['top'].set_visible(False)\n",
        "plt.gca().spines['right'].set_visible(False)\n",
        "plt.gca().spines['bottom'].set_visible(False)\n",
        "plt.gca().spines['left'].set_visible(False)\n",
        "plt.show()"
      ],
      "metadata": {
        "colab": {
          "base_uri": "https://localhost:8080/",
          "height": 423
        },
        "id": "CjXKDROTgITK",
        "outputId": "e58536b1-ec00-496f-d261-9784760eacc8"
      },
      "execution_count": 172,
      "outputs": [
        {
          "output_type": "stream",
          "name": "stderr",
          "text": [
            "WARNING:matplotlib.image:Clipping input data to the valid range for imshow with RGB data ([0..1] for floats or [0..255] for integers).\n"
          ]
        },
        {
          "output_type": "display_data",
          "data": {
            "text/plain": [
              "<Figure size 640x480 with 1 Axes>"
            ],
            "image/png": "[encoded data removed]"
          },
          "metadata": {}
        }
      ]
    }
  ]
}