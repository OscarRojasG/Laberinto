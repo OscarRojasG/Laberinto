{
  "nbformat": 4,
  "nbformat_minor": 0,
  "metadata": {
    "colab": {
      "provenance": [],
      "authorship_tag": "ABX9TyP+nJmwsa7PPQ4/zS9F7iCb",
      "include_colab_link": true
    },
    "kernelspec": {
      "name": "python3",
      "display_name": "Python 3"
    },
    "language_info": {
      "name": "python"
    }
  },
  "cells": [
    {
      "cell_type": "markdown",
      "metadata": {
        "id": "view-in-github",
        "colab_type": "text"
      },
      "source": [
        "<a href=\"https://colab.research.google.com/github/OscarRojasG/Laberinto/blob/main/Maze.ipynb\" target=\"_parent\"><img src=\"https://colab.research.google.com/assets/colab-badge.svg\" alt=\"Open In Colab\"/></a>"
      ]
    },
    {
      "cell_type": "code",
      "execution_count": 123,
      "metadata": {
        "id": "fWMNNtErm_i4"
      },
      "outputs": [],
      "source": [
        "import numpy as np\n",
        "import random\n",
        "import sys\n",
        "\n",
        "maze_size = 5\n",
        "start_pos = (1,2)\n",
        "end_pos = (4,4)"
      ]
    },
    {
      "cell_type": "code",
      "source": [
        "move_matrix = np.zeros((maze_size, maze_size), dtype=int)\n",
        "move_matrix[start_pos] = 1\n",
        "\n",
        "# Inicializar diccionario de coordenadas visitadas\n",
        "visited = dict()\n",
        "for x in range(0, maze_size):\n",
        "  for y in range(0, maze_size):\n",
        "    visited[(x,y)] = False\n",
        "\n",
        "# Movimientos posibles\n",
        "MOVE_LEFT = 1\n",
        "MOVE_RIGHT = 2\n",
        "MOVE_TOP = 3\n",
        "MOVE_DOWN = 4\n",
        "\n",
        "path = [start_pos]\n",
        "visited[start_pos] = True\n",
        "\n",
        "# Mientras no se llegue a la meta\n",
        "while True:\n",
        "  current_pos = path[-1]\n",
        "  if current_pos == end_pos:\n",
        "    break\n",
        "\n",
        "  x = current_pos[0]\n",
        "  y = current_pos[1]\n",
        "\n",
        "  available_moves = []\n",
        "\n",
        "  # Añadir movimientos factibles\n",
        "  if x - 1 >= 0 and visited[(x-1,y)] == False:\n",
        "    available_moves.append(MOVE_LEFT)\n",
        "  if x + 1 < maze_size and visited[(x+1,y)] == False:\n",
        "    available_moves.append(MOVE_RIGHT)\n",
        "  if y - 1 >= 0 and visited[(x,y-1)] == False:\n",
        "    available_moves.append(MOVE_TOP)\n",
        "  if y + 1 < maze_size and visited[(x,y+1)] == False:\n",
        "    available_moves.append(MOVE_DOWN)\n",
        "\n",
        "  if len(available_moves) == 0:\n",
        "    path.pop()\n",
        "    continue\n",
        "\n",
        "  move = random.choice(available_moves) # Movimiento aleatorio\n",
        "\n",
        "  # Actualizar coordenadas\n",
        "  if move == MOVE_LEFT:\n",
        "    x = x-1\n",
        "  elif move == MOVE_RIGHT:\n",
        "    x = x+1\n",
        "  elif move == MOVE_TOP:\n",
        "    y = y-1\n",
        "  elif move == MOVE_DOWN:\n",
        "    y = y+1\n",
        "\n",
        "  current_pos = (x,y)\n",
        "  path.append(current_pos)\n",
        "  visited[current_pos] = True\n",
        "\n",
        "path"
      ],
      "metadata": {
        "colab": {
          "base_uri": "https://localhost:8080/"
        },
        "id": "torJkCLFwRNg",
        "outputId": "54783aed-7109-4838-b24b-cd84bd09db4a"
      },
      "execution_count": 124,
      "outputs": [
        {
          "output_type": "execute_result",
          "data": {
            "text/plain": [
              "[(1, 2),\n",
              " (0, 2),\n",
              " (0, 1),\n",
              " (1, 1),\n",
              " (1, 0),\n",
              " (2, 0),\n",
              " (2, 1),\n",
              " (3, 1),\n",
              " (3, 2),\n",
              " (2, 2),\n",
              " (2, 3),\n",
              " (3, 3),\n",
              " (4, 3),\n",
              " (4, 4)]"
            ]
          },
          "metadata": {},
          "execution_count": 124
        }
      ]
    },
    {
      "cell_type": "code",
      "source": [
        "# Ampliar tamaño de laberinto\n",
        "maze_size = maze_size * 2 - 1\n",
        "start_pos = (start_pos[0] * 2, start_pos[1] * 2)\n",
        "end_pos = (end_pos[0] * 2, end_pos[1] * 2)\n",
        "\n",
        "# Crear matriz\n",
        "m = np.zeros((maze_size, maze_size), dtype=int)\n",
        "\n",
        "# Dibujar camino\n",
        "for i in range(0, len(path)-1):\n",
        "  x1 = path[i][0] * 2\n",
        "  y1 = path[i][1] * 2\n",
        "  x2 = path[i+1][0] * 2\n",
        "  y2 = path[i+1][1] * 2\n",
        "\n",
        "  m[x1,y1] = 1\n",
        "\n",
        "  if x1 > x2:\n",
        "    m[x1-1,y1] = 1\n",
        "  elif x1 < x2:\n",
        "    m[x1+1,y1] = 1\n",
        "  elif y1 > y2:\n",
        "    m[x1,y1-1] = 1\n",
        "  elif y1 < y2:\n",
        "    m[x1,y1+1] = 1\n",
        "\n",
        "m[end_pos] = 1"
      ],
      "metadata": {
        "id": "Z1WRhgC5Fm_A"
      },
      "execution_count": 125,
      "outputs": []
    },
    {
      "cell_type": "code",
      "source": [
        "np.set_printoptions(threshold=sys.maxsize)\n",
        "m.transpose()"
      ],
      "metadata": {
        "colab": {
          "base_uri": "https://localhost:8080/"
        },
        "id": "rU4M6yQQI_EO",
        "outputId": "1febee0d-6f6b-4e40-83a7-80c04a573331"
      },
      "execution_count": 126,
      "outputs": [
        {
          "output_type": "execute_result",
          "data": {
            "text/plain": [
              "array([[0, 0, 1, 1, 1, 0, 0, 0, 0],\n",
              "       [0, 0, 1, 0, 1, 0, 0, 0, 0],\n",
              "       [1, 1, 1, 0, 1, 1, 1, 0, 0],\n",
              "       [1, 0, 0, 0, 0, 0, 1, 0, 0],\n",
              "       [1, 1, 1, 0, 1, 1, 1, 0, 0],\n",
              "       [0, 0, 0, 0, 1, 0, 0, 0, 0],\n",
              "       [0, 0, 0, 0, 1, 1, 1, 1, 1],\n",
              "       [0, 0, 0, 0, 0, 0, 0, 0, 1],\n",
              "       [0, 0, 0, 0, 0, 0, 0, 0, 1]])"
            ]
          },
          "metadata": {},
          "execution_count": 126
        }
      ]
    }
  ]
}